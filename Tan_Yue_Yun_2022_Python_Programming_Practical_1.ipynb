{
  "nbformat": 4,
  "nbformat_minor": 0,
  "metadata": {
    "colab": {
      "name": "Tan Yue Yun - 2022_Python_Programming_Practical_1.ipynb",
      "provenance": [],
      "collapsed_sections": [],
      "include_colab_link": true
    },
    "kernelspec": {
      "name": "python3",
      "display_name": "Python 3"
    }
  },
  "cells": [
    {
      "cell_type": "markdown",
      "metadata": {
        "id": "view-in-github",
        "colab_type": "text"
      },
      "source": [
        "<a href=\"https://colab.research.google.com/github/yueyun-2022/ctcuc22/blob/main/Tan_Yue_Yun_2022_Python_Programming_Practical_1.ipynb\" target=\"_parent\"><img src=\"https://colab.research.google.com/assets/colab-badge.svg\" alt=\"Open In Colab\"/></a>"
      ]
    },
    {
      "cell_type": "markdown",
      "metadata": {
        "id": "jp3BkDml8xiR"
      },
      "source": [
        "# **2022 Python Programming Practical 1**\n",
        "\n",
        "If you do not have one already, create a [GitHub](https://github.com) account.\n",
        "\n",
        "Create a public repository ctcuc22\n",
        "\n",
        "File --> Save a copy in GitHub under this repository\n",
        "\n",
        "For the following questions,\n",
        "\n",
        "*   standard input: keyboard\n",
        "*   standard output: screen\n",
        "\n"
      ]
    },
    {
      "cell_type": "markdown",
      "metadata": {
        "id": "-U8w0oQW9P_b"
      },
      "source": [
        "**Q1. (Converting Fahrenheit to Celsius)**\n",
        "\n",
        "Write a program that reads a Fahrenheit degree as a float from standard input, then converts it to Celsius and displays the result in standard output. The formula for the conversion is:\n",
        "```\n",
        "celsius = (5/9) * (fahrenheit - 32)\n",
        "```"
      ]
    },
    {
      "cell_type": "code",
      "metadata": {
        "id": "D0uTR7B-8qbF",
        "colab": {
          "base_uri": "https://localhost:8080/"
        },
        "outputId": "03e3c957-0692-4292-fecc-f648c28494ba"
      },
      "source": [
        "#get input\n",
        "ftemp = float(input(\"Enter a temperature in Fahrenheit \"))\n",
        "ctemp = (5/9)*(ftemp - 32)\n",
        "ctemp = round(ctemp, 1)\n",
        "print('The temperature in degree celcius is' ,ctemp,'.')"
      ],
      "execution_count": null,
      "outputs": [
        {
          "output_type": "stream",
          "name": "stdout",
          "text": [
            "Enter a temperature in Fahrenheit 10\n",
            "The temperature in degree celcius is -12.2 .\n"
          ]
        }
      ]
    },
    {
      "cell_type": "markdown",
      "metadata": {
        "id": "7Ui5CuS_9Za1"
      },
      "source": [
        "**Q2. (Computing the volume of a cylinder)**\n",
        "\n",
        "Write a program that reads in the radius and length of a cylinder and computes its volume using the formulae:\n",
        "```\n",
        "area = radius * radius * pi\n",
        "volume = area * length\n",
        "```\n",
        "\n",
        "\n"
      ]
    },
    {
      "cell_type": "code",
      "metadata": {
        "id": "CfkRAAWV9cXS",
        "colab": {
          "base_uri": "https://localhost:8080/"
        },
        "outputId": "bd2d0cae-0e96-4eb6-8a08-567c3cba9dfc"
      },
      "source": [
        "radius = float(input('Enter the radius of the cylinder: '))\n",
        "length = float(input('Enter the length of the cylinder: '))\n",
        "\n",
        "import math\n",
        "\n",
        "PI = math.pi\n",
        "\n",
        "area = radius*radius*PI\n",
        "volume = area*length\n",
        "\n",
        "print('The base area of the cylinder is', round(area,1), 'cm2 .')\n",
        "print('The volume of the cylinedr is', round(volume, 1), 'cm3 .' )"
      ],
      "execution_count": null,
      "outputs": [
        {
          "output_type": "stream",
          "name": "stdout",
          "text": [
            "Enter the radius of the cylinder: 4\n",
            "Enter the length of the cylinder: 8\n",
            "The base area of the cylinder is 50.3 cm2 .\n",
            "The volume of the cylinedr is 402.1 cm3 .\n"
          ]
        }
      ]
    },
    {
      "cell_type": "markdown",
      "metadata": {
        "id": "aVhHiT8w9c7d"
      },
      "source": [
        "**Q3. (Converting miles into kilometers)**\n",
        "\n",
        "Write a program that reads a number in miles, converts it to kilometres, and outputs the result. One mile is 1.60934 kilometres. Display your answer correct to 3 decimal places."
      ]
    },
    {
      "cell_type": "code",
      "metadata": {
        "id": "PwRmweEa9fny",
        "colab": {
          "base_uri": "https://localhost:8080/"
        },
        "outputId": "59761cfc-71ed-4334-e807-c27830f2d455"
      },
      "source": [
        "miles = float(input('Enter the distance in miles: '))\n",
        "km = miles*1.60934\n",
        "print('The distance in kilometres is', round(km,3), 'km.' )"
      ],
      "execution_count": null,
      "outputs": [
        {
          "output_type": "stream",
          "name": "stdout",
          "text": [
            "Enter the distance in miles: 48\n",
            "The distance in kilometres is 77.248 km.\n"
          ]
        }
      ]
    },
    {
      "cell_type": "markdown",
      "metadata": {
        "id": "GwAIqQNY9gFd"
      },
      "source": [
        "**Q4. (Summing the digits in an integer)**\n",
        "\n",
        "Write a program that reads an integer between 0 and 1000 and adds all the digits in the integer. For example, if an integer is 932, the sum of all its digits is 14.\n",
        "\n",
        "Hint: Use the % operator to extract digits, and use the // operator to remove the extracted digit. For instance, 932 % 10 = 2 and 932 // 10 = 93"
      ]
    },
    {
      "cell_type": "code",
      "metadata": {
        "id": "aOozTwoR9j9B",
        "colab": {
          "base_uri": "https://localhost:8080/"
        },
        "outputId": "b2bcf34b-0bc2-4b25-8609-cbfbc2b07e0f"
      },
      "source": [
        "# how do we restrict user to only 3 digit?\n",
        "# need to do some form of validation for the user inputs\n",
        "\n",
        "number = int(input('Enter an integer between 0 to 1000: '))\n",
        "ones = number % 10\n",
        "tens = (number//10)%10\n",
        "hundreds = (number//10)//10\n",
        "sum = ones + tens + hundreds\n",
        "\n",
        "print('The integer entered is', number,'.')\n",
        "print('The ones digit is', ones , '.')\n",
        "print('The tens digit is', tens, '.')\n",
        "print('The hundreds digit is', hundreds, '.')\n",
        "print('The sum of all its digits is', sum, '.')"
      ],
      "execution_count": null,
      "outputs": [
        {
          "output_type": "stream",
          "name": "stdout",
          "text": [
            "Enter an integer between 0 to 1000: 48\n",
            "The integer entered is 48 .\n",
            "The ones digit is 8 .\n",
            "The tens digit is 4 .\n",
            "The hundreds digit is 0 .\n",
            "The sum of all its digits is 12 .\n"
          ]
        }
      ]
    },
    {
      "cell_type": "markdown",
      "metadata": {
        "id": "lE0ScX9e9kcg"
      },
      "source": [
        "**Q5. (Converting an uppercase letter to lowercase)**\n",
        "\n",
        "Write a program that converts an uppercase letter from standard input to a lowercase letter by making use of its ASCII value.\n",
        "\n",
        "http://www.asciitable.com"
      ]
    },
    {
      "cell_type": "code",
      "metadata": {
        "id": "sE_bxwDs9mf6",
        "outputId": "87037b32-3850-4f86-8da9-3eb2f477708b",
        "colab": {
          "base_uri": "https://localhost:8080/"
        }
      },
      "source": [
        "upper = input(\"Enter uppercase letter: \")\n",
        "lower = ord(upper) + 32 # ordinal\n",
        "print(chr(lower))"
      ],
      "execution_count": null,
      "outputs": [
        {
          "output_type": "stream",
          "name": "stdout",
          "text": [
            "Enter uppercase letter: H\n",
            "h\n"
          ]
        }
      ]
    },
    {
      "cell_type": "markdown",
      "metadata": {
        "id": "KSviQY0T9m7Q"
      },
      "source": [
        "**Q6. (Finding the character of an ASCII code)**\n",
        "\n",
        "Write a program that receives an ASCII value (an integer between 0 and 127) and displays its character. For example, if the user enters 97, the program displays character a.\n",
        "\n",
        "http://www.asciitable.com"
      ]
    },
    {
      "cell_type": "code",
      "metadata": {
        "id": "YbH9Pbul9rK-",
        "colab": {
          "base_uri": "https://localhost:8080/"
        },
        "outputId": "3a36b4f9-f3f3-499e-9475-2bdf059c4ae6"
      },
      "source": [
        "value = int(input(\"Enter an ASCII value (0 - 127):\"))\n",
        "print(chr(value))\n"
      ],
      "execution_count": null,
      "outputs": [
        {
          "output_type": "stream",
          "name": "stdout",
          "text": [
            "Enter an ASCII value (0 - 127):97\n",
            "a\n"
          ]
        }
      ]
    },
    {
      "cell_type": "markdown",
      "metadata": {
        "id": "V9Z95nlg97e4"
      },
      "source": [
        "**Q7. (Payroll)**\n",
        "\n",
        "Write a program that reads in the following information and prints a payroll statement. A sample input and output session is as follows:\n",
        "\n",
        "Sample input:\n",
        "```\n",
        "Enter name: Lim Ah Seng\n",
        "Enter number of hours worked weekly: 10\n",
        "Enter hourly pay rate: 6.75\n",
        "Enter CPF contribution rate(%): 20\n",
        "```\n",
        "\n",
        "Sample output:\n",
        "```\n",
        "Payroll statement for Lim Ah Seng\n",
        "Number of hours worked in week: 10\n",
        "Hourly pay rate: $6.75\n",
        "Gross pay = $67.50\n",
        "CPF contribution at 20% = $13.50\n",
        "Net pay = $54.00\n",
        "```\n",
        "\n"
      ]
    },
    {
      "cell_type": "code",
      "metadata": {
        "id": "1AZvvAW499PK",
        "colab": {
          "base_uri": "https://localhost:8080/"
        },
        "outputId": "7d5eb1c2-ddd9-46ad-9d8f-81497e5bffbc"
      },
      "source": [
        "name = input(\"Enter name: \")\n",
        "hours = int(input(\"Enter number of hours worked weekly: \"))\n",
        "rate = float(input(\"Enter hourly pay rate: \"))\n",
        "cpf = int(input(\"Enter CPF contribution rate(%): \"))\n",
        "print()\n",
        "grosspay = hours*rate\n",
        "cpfcont = grosspay*(cpf/100)\n",
        "net = grosspay - cpfcont\n",
        "\n",
        "frate = \"{:.2f}\".format(rate)\n",
        "fgrosspay = \"{:.2f}\".format(grosspay)\n",
        "fcpfcont = \"{:.2f}\".format(cpfcont)\n",
        "fnet = \"{:.2f}\".format(net)\n",
        "\n",
        "print('Payroll statement for ', name)\n",
        "print()\n",
        "print('Number of hours worked in week:', hours)\n",
        "print()\n",
        "print('Hourly pay rate: $'+frate)\n",
        "print()\n",
        "print('Gross pay = $'+fgrosspay)\n",
        "print()\n",
        "print('CPF contribution at',cpf,'% = $'+fcpfcont)\n",
        "print()\n",
        "print('Net pay = $'+fnet)\n",
        "\n",
        "\n"
      ],
      "execution_count": null,
      "outputs": [
        {
          "output_type": "stream",
          "name": "stdout",
          "text": [
            "Enter name: Testing\n",
            "Enter number of hours worked weekly: 10\n",
            "Enter hourly pay rate: 6.75\n",
            "Enter CPF contribution rate(%): 20\n",
            "\n",
            "Payroll statement for  Testing\n",
            "\n",
            "Number of hours worked in week: 10\n",
            "\n",
            "Hourly pay rate: $6.75\n",
            "\n",
            "Gross pay = $67.50\n",
            "\n",
            "CPF contribution at 20 % = $13.50\n",
            "\n",
            "Net pay = $54.00\n"
          ]
        }
      ]
    }
  ]
}